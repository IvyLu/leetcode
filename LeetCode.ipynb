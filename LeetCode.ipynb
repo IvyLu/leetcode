{
 "cells": [
  {
   "cell_type": "markdown",
   "metadata": {},
   "source": [
    "# 104. Maximum Depth of Binary Tree\n",
    "Given a binary tree, find its maximum depth.\n",
    "\n",
    "The maximum depth is the number of nodes along the longest path from the root node down to the farthest leaf node."
   ]
  },
  {
   "cell_type": "code",
   "execution_count": 2,
   "metadata": {
    "collapsed": true
   },
   "outputs": [],
   "source": [
    "# Definition for a binary tree node.\n",
    "class TreeNode(object):\n",
    "    def __init__(self, x):\n",
    "        self.val = x\n",
    "        self.left = None\n",
    "        self.right = None\n",
    "\n",
    "        \n",
    "def maxDepth(root):\n",
    "    \"\"\"\n",
    "    :type root: TreeNode\n",
    "    :rtype: int\n",
    "    \"\"\"\n",
    "    if not root:\n",
    "        return 0\n",
    "    \n",
    "    return max(maxDepth(root.left), maxDepth(root.right))+1\n",
    "    \n",
    "        "
   ]
  },
  {
   "cell_type": "markdown",
   "metadata": {},
   "source": [
    "# 111. Minimum Depth of Binary Tree\n"
   ]
  },
  {
   "cell_type": "code",
   "execution_count": null,
   "metadata": {
    "collapsed": true
   },
   "outputs": [],
   "source": [
    "class Solution(object):\n",
    "    def minDepth(self, root):\n",
    "        \"\"\"\n",
    "        :type root: TreeNode\n",
    "        :rtype: int\n",
    "        \"\"\"\n",
    "#         if not root:\n",
    "#             return 0\n",
    "        \n",
    "#         if root.left is None and root.right is None:\n",
    "#             return 1\n",
    "        \n",
    "#         if root.left and root.right:\n",
    "#             return min(self.minDepth(root.left), self.minDepth(root.right))+1\n",
    "        \n",
    "#         if root.left and root.right is None:\n",
    "#             return self.minDepth(root.left)+1\n",
    "#         elif root.right and root.left is None:\n",
    "#             return self.minDepth(root.right)+1\n",
    "\n",
    "        if not root:\n",
    "            return 0\n",
    "        \n",
    "        if root.left and root.right:\n",
    "            return min(self.minDepth(root.left), self.minDepth(root.right))+1\n",
    "        else:\n",
    "            return max(self.minDepth(root.left), self.minDepth(root.right))+1\n"
   ]
  },
  {
   "cell_type": "markdown",
   "metadata": {},
   "source": [
    "# 100. Same Tree\n",
    "Given two binary trees, write a function to check if they are equal or not.\n",
    "\n",
    "Two binary trees are considered equal if they are structurally identical and the nodes have the same value."
   ]
  },
  {
   "cell_type": "code",
   "execution_count": null,
   "metadata": {
    "collapsed": true
   },
   "outputs": [],
   "source": [
    "class Solution(object):\n",
    "    def isSameTree(self, p, q):\n",
    "        \"\"\"\n",
    "        :type p: TreeNode\n",
    "        :type q: TreeNode\n",
    "        :rtype: bool\n",
    "        \"\"\"\n",
    "        if not p and not q:\n",
    "            return True\n",
    "        \n",
    "        if p and q and p.val==q.val:\n",
    "            return self.isSameTree(p.left, q.left) and self.isSameTree(p.right, q.right)\n",
    "        else:\n",
    "            return False"
   ]
  },
  {
   "cell_type": "markdown",
   "metadata": {
    "collapsed": true
   },
   "source": [
    "# Interview Problem"
   ]
  },
  {
   "cell_type": "code",
   "execution_count": 64,
   "metadata": {
    "collapsed": false
   },
   "outputs": [],
   "source": [
    "# given a list\n",
    "# [-1, 1, 2, 3, 4, 5, 6, 7]\n",
    "# find the elements add up to 7\n",
    "#  output:\n",
    "# [[-1, 1, 7],\n",
    "# [-1, 2, 6],\n",
    "# [7], \n",
    "# [1, 6],\n",
    "# etc.]\n",
    "    \n",
    "def combinationSum(candidates, target):\n",
    "    \"\"\"\n",
    "    :type candidates: List[int]\n",
    "    :type target: int\n",
    "    :rtype: List[List[int]]\n",
    "    \"\"\"    \n",
    "\n",
    "    def dfs(nums, start, results, combination, target):\n",
    "        if sum(combination) == target:\n",
    "            results.append(combination[:])\n",
    "            return\n",
    "\n",
    "        if sum(combination) > target:\n",
    "            return\n",
    "\n",
    "        for i in range(start, len(nums)):\n",
    "            if sum(combination)+nums[i] > target:\n",
    "                break\n",
    "            combination.append(nums[i])\n",
    "            dfs(nums, i+1, results, combination, target)\n",
    "            combination.remove(combination[- 1])\n",
    "            \n",
    "        return results\n",
    "\n",
    "    \n",
    "    candidates = sorted(candidates)\n",
    "    results = []\n",
    "    dfs(candidates, 0, results, [], target)\n",
    "    return results"
   ]
  },
  {
   "cell_type": "code",
   "execution_count": 65,
   "metadata": {
    "collapsed": false
   },
   "outputs": [
    {
     "name": "stdout",
     "output_type": "stream",
     "text": [
      "[[-1, 1, 2, 5], [-1, 1, 3, 4], [-1, 1, 7], [-1, 2, 6], [-1, 3, 5], [1, 2, 4], [1, 6], [2, 5], [3, 4], [7]]\n"
     ]
    }
   ],
   "source": [
    "print(combinationSum([-1, 1, 2, 3, 4, 5, 6, 7],7))"
   ]
  },
  {
   "cell_type": "markdown",
   "metadata": {
    "collapsed": true
   },
   "source": [
    "# Combination Sum 2"
   ]
  },
  {
   "cell_type": "code",
   "execution_count": 55,
   "metadata": {
    "collapsed": false
   },
   "outputs": [],
   "source": [
    "class Solution(object):\n",
    "    def combinationSum2(self, candidates, target):\n",
    "        \"\"\"\n",
    "        :type candidates: List[int]\n",
    "        :type target: int\n",
    "        :rtype: List[List[int]]\n",
    "        \"\"\"\n",
    "       \n",
    "        def dfs(nums, start, results, combination, target):\n",
    "            if sum(combination) == target:\n",
    "                results.append(combination[:])\n",
    "                return\n",
    "\n",
    "            if sum(combination) > target:\n",
    "                return\n",
    "\n",
    "            for i in range(start, len(nums)):\n",
    "                if sum(combination)+nums[i] > target:\n",
    "                    break\n",
    "                \n",
    "                if i !=start and nums[i] == nums[i-1]:\n",
    "                    continue\n",
    "                \n",
    "                combination.append(nums[i])\n",
    "                dfs(nums, i+1, results, combination, target)\n",
    "                combination.remove(combination[-1])\n",
    "            \n",
    "            return results\n",
    "            \n",
    "        candidates = sorted(candidates)\n",
    "        results = []\n",
    "        dfs(candidates, 0, results, [], target)\n",
    "        return results\n",
    "        "
   ]
  },
  {
   "cell_type": "markdown",
   "metadata": {
    "collapsed": true
   },
   "source": [
    "# 46. Permutations"
   ]
  },
  {
   "cell_type": "code",
   "execution_count": 1,
   "metadata": {
    "collapsed": true
   },
   "outputs": [],
   "source": [
    "class Solution(object):\n",
    "    def permute(self, nums):\n",
    "        \"\"\"\n",
    "        :type nums: List[int]\n",
    "        :rtype: List[List[int]]\n",
    "        \"\"\"\n",
    "        def helper(nums, permu, results):\n",
    "            if len(permu)==len(nums):\n",
    "                results.append(permu[:])\n",
    "                return\n",
    "            \n",
    "            for i in range(len(nums)):\n",
    "                if nums[i] in permu:\n",
    "                    continue\n",
    "                \n",
    "                permu.append(nums[i])\n",
    "                helper(nums, permu, results)\n",
    "                permu.remove(permu[-1])\n",
    "                \n",
    "            \n",
    "        results = []\n",
    "        if nums is None:\n",
    "            return results\n",
    "        \n",
    "        if len(nums)==0:\n",
    "            results.append([])\n",
    "            return results\n",
    "            \n",
    "        permu = []\n",
    "        helper(nums, permu, results)\n",
    "        return results"
   ]
  },
  {
   "cell_type": "markdown",
   "metadata": {
    "collapsed": true
   },
   "source": [
    "# 215. Kth Largest Element in an Array\n",
    "Find the kth largest element in an unsorted array. Note that it is the kth largest element in the sorted order, not the kth distinct element.\n",
    "\n",
    "For example,\n",
    "Given [3,2,1,5,6,4] and k = 2, return 5."
   ]
  },
  {
   "cell_type": "code",
   "execution_count": 1,
   "metadata": {
    "collapsed": true
   },
   "outputs": [],
   "source": [
    "class Solution(object):\n",
    "    def findKthLargest(self, nums, k):\n",
    "        \"\"\"\n",
    "        :type nums: List[int]\n",
    "        :type k: int\n",
    "        :rtype: int\n",
    "        \"\"\"\n",
    "        def quickselect(A, start, end, k):\n",
    "            #implementation of quick-select\n",
    "            if start == end:\n",
    "                return A[start]\n",
    "            \n",
    "            i = start\n",
    "            j = end\n",
    "            pivot = A[(start+end)/2]\n",
    "            while i<=j:\n",
    "                while (i<=j and A[i]>pivot):\n",
    "                    i += 1\n",
    "                while (i<=j and A[j]<pivot):\n",
    "                    j -= 1\n",
    "                if i<=j:\n",
    "                    temp = A[i]\n",
    "                    A[i] = A[j]\n",
    "                    A[j] = temp\n",
    "                    i+=1\n",
    "                    j-=1\n",
    "            \n",
    "            if (start+k-1 <=j):\n",
    "                return quickselect(A, start, j, k)\n",
    "                \n",
    "            if (start+k-1 >=i):\n",
    "                return quickselect(A, i, end, k-(i-start))\n",
    "            \n",
    "            return A[j+1]\n",
    "        \n",
    "        return quickselect(nums, 0, len(nums)-1, k)"
   ]
  },
  {
   "cell_type": "code",
   "execution_count": null,
   "metadata": {
    "collapsed": true
   },
   "outputs": [],
   "source": []
  }
 ],
 "metadata": {
  "kernelspec": {
   "display_name": "Python 3",
   "language": "python",
   "name": "python3"
  },
  "language_info": {
   "codemirror_mode": {
    "name": "ipython",
    "version": 3
   },
   "file_extension": ".py",
   "mimetype": "text/x-python",
   "name": "python",
   "nbconvert_exporter": "python",
   "pygments_lexer": "ipython3",
   "version": "3.6.0"
  }
 },
 "nbformat": 4,
 "nbformat_minor": 2
}
